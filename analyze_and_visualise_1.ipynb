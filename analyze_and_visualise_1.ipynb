{
  "nbformat": 4,
  "nbformat_minor": 0,
  "metadata": {
    "colab": {
      "name": "analyze_and_visualise.ipynb",
      "provenance": [],
      "collapsed_sections": []
    },
    "kernelspec": {
      "name": "python3",
      "display_name": "Python 3"
    },
    "language_info": {
      "name": "python"
    }
  },
  "cells": [
    {
      "cell_type": "code",
      "source": [
        "%load_ext rpy2.ipython"
      ],
      "metadata": {
        "id": "1dW044iXKBkq"
      },
      "execution_count": 2,
      "outputs": []
    },
    {
      "cell_type": "code",
      "source": [
        "%%R\n",
        "setwd(\"/content/drive/MyDrive/tripdatcyc\")\n",
        "list.files()"
      ],
      "metadata": {
        "colab": {
          "base_uri": "https://localhost:8080/"
        },
        "id": "4kJsgVw2KJ5S",
        "outputId": "eec5fd64-7e97-4c97-a49b-f13eee7084dd"
      },
      "execution_count": 3,
      "outputs": [
        {
          "output_type": "stream",
          "name": "stdout",
          "text": [
            " [1] \"2013\"            \"2014\"            \"2015\"            \"2016\"           \n",
            " [5] \"2017\"            \"2018\"            \"2019\"            \"2020\"           \n",
            " [9] \"2021\"            \"trip13to19.csv\"  \"trip20to21.csv\"  \"triptotal13.csv\"\n",
            "[13] \"triptotal14.csv\" \"triptotal15.csv\" \"triptotal16.csv\" \"triptotal17.csv\"\n",
            "[17] \"triptotal18.csv\" \"triptotal19.csv\" \"triptotal20.csv\" \"triptotal21.csv\"\n"
          ]
        }
      ]
    },
    {
      "cell_type": "code",
      "source": [
        "%%R\n",
        "library(tidyverse)\n",
        "library(lubridate)"
      ],
      "metadata": {
        "id": "tq4cnTivKVzB",
        "colab": {
          "base_uri": "https://localhost:8080/"
        },
        "outputId": "1901d521-53e4-4894-b1a5-4a5fe10f8c05"
      },
      "execution_count": 4,
      "outputs": [
        {
          "output_type": "stream",
          "name": "stderr",
          "text": [
            "R[write to console]: ── Attaching packages ─────────────────────────────────────── tidyverse 1.3.1 ──\n",
            "\n",
            "R[write to console]: ✔ ggplot2 3.3.5     ✔ purrr   0.3.4\n",
            "✔ tibble  3.1.6     ✔ dplyr   1.0.7\n",
            "✔ tidyr   1.1.4     ✔ stringr 1.4.0\n",
            "✔ readr   2.1.1     ✔ forcats 0.5.1\n",
            "\n",
            "R[write to console]: ── Conflicts ────────────────────────────────────────── tidyverse_conflicts() ──\n",
            "✖ dplyr::filter() masks stats::filter()\n",
            "✖ dplyr::lag()    masks stats::lag()\n",
            "\n",
            "R[write to console]: \n",
            "Attaching package: ‘lubridate’\n",
            "\n",
            "\n",
            "R[write to console]: The following objects are masked from ‘package:base’:\n",
            "\n",
            "    date, intersect, setdiff, union\n",
            "\n",
            "\n"
          ]
        }
      ]
    },
    {
      "cell_type": "code",
      "source": [
        "%%R\n",
        "t1 = read_csv(\"trip13to19.csv\")"
      ],
      "metadata": {
        "colab": {
          "base_uri": "https://localhost:8080/"
        },
        "id": "roNjwsZ9KuEq",
        "outputId": "2c52d60c-2305-4359-a929-c558304de4ae"
      },
      "execution_count": 5,
      "outputs": [
        {
          "output_type": "stream",
          "name": "stdout",
          "text": [
            "Rows: 21243283 Columns: 10\n",
            "── Column specification ────────────────────────────────────────────────────────\n",
            "Delimiter: \",\"\n",
            "chr  (3): from_station_name, to_station_name, usertype\n",
            "dbl  (4): tripduration, trip_id, from_station_id, to_station_id\n",
            "lgl  (1): rideable_type\n",
            "dttm (2): starttime, stoptime\n",
            "\n",
            "ℹ Use `spec()` to retrieve the full column specification for this data.\n",
            "ℹ Specify the column types or set `show_col_types = FALSE` to quiet this message.\n"
          ]
        }
      ]
    },
    {
      "cell_type": "code",
      "source": [
        "%%R\n",
        "print(head(t1))"
      ],
      "metadata": {
        "colab": {
          "base_uri": "https://localhost:8080/"
        },
        "id": "MCPNTPQcK8Db",
        "outputId": "84803fc3-ebc3-4a60-970e-dd911fce6662"
      },
      "execution_count": 6,
      "outputs": [
        {
          "output_type": "stream",
          "name": "stdout",
          "text": [
            "# A tibble: 6 × 10\n",
            "  tripduration trip_id rideable_type starttime           stoptime           \n",
            "         <dbl>   <dbl> <lgl>         <dttm>              <dttm>             \n",
            "1          316    4118 NA            2013-06-27 12:11:00 2013-06-27 12:16:00\n",
            "2           64    4275 NA            2013-06-27 14:44:00 2013-06-27 14:45:00\n",
            "3          433    4291 NA            2013-06-27 14:58:00 2013-06-27 15:05:00\n",
            "4          123    4316 NA            2013-06-27 15:06:00 2013-06-27 15:09:00\n",
            "5          852    4342 NA            2013-06-27 15:13:00 2013-06-27 15:27:00\n",
            "6        10105    4480 NA            2013-06-27 19:40:00 2013-06-27 22:28:00\n",
            "# … with 5 more variables: from_station_name <chr>, from_station_id <dbl>,\n",
            "#   to_station_name <chr>, to_station_id <dbl>, usertype <chr>\n"
          ]
        }
      ]
    },
    {
      "cell_type": "code",
      "source": [
        "%%R\n",
        "ggplot(data=t1)+geom_histogram(mapping=aes(x=year(starttime),fill=usertype))"
      ],
      "metadata": {
        "colab": {
          "base_uri": "https://localhost:8080/",
          "height": 532
        },
        "id": "LF3_hYmMLPAO",
        "outputId": "b5f5d9e4-927e-4511-e042-f26e10415024"
      },
      "execution_count": null,
      "outputs": [
        {
          "output_type": "stream",
          "name": "stderr",
          "text": [
            "R[write to console]: `stat_bin()` using `bins = 30`. Pick better value with `binwidth`.\n",
            "\n"
          ]
        },
        {
          "output_type": "display_data",
          "data": {
            "image/png": "[encoded data removed]"
          },
          "metadata": {}
        }
      ]
    },
    {
      "cell_type": "code",
      "source": [
        "%%R\n",
        "ggplot(data=t1)+geom_histogram(stat=\"count\",mapping=aes(x=months(starttime),fill=usertype))"
      ],
      "metadata": {
        "colab": {
          "base_uri": "https://localhost:8080/",
          "height": 497
        },
        "id": "LftbzX4Wrdqi",
        "outputId": "0929c84d-4c88-4e80-ff46-c622f416b0c2"
      },
      "execution_count": 6,
      "outputs": [
        {
          "output_type": "display_data",
          "data": {
            "image/png": "[encoded data removed]"
          },
          "metadata": {}
        }
      ]
    },
    {
      "cell_type": "code",
      "source": [
        "%%R\n",
        "ggplot(data=t1)+geom_histogram(stat=\"count\",mapping=aes(x=weekdays(starttime),fill=usertype))"
      ],
      "metadata": {
        "colab": {
          "base_uri": "https://localhost:8080/",
          "height": 497
        },
        "id": "95KfVc_FsKrM",
        "outputId": "82a9c2bf-4aa7-4e55-8d24-4d4cc9bf8609"
      },
      "execution_count": 7,
      "outputs": [
        {
          "output_type": "display_data",
          "data": {
            "image/png": "[encoded data removed]"
          },
          "metadata": {}
        }
      ]
    },
    {
      "cell_type": "code",
      "source": [
        "%%R\n",
        "print(summary(t1))"
      ],
      "metadata": {
        "colab": {
          "base_uri": "https://localhost:8080/"
        },
        "id": "pFvfUKOGME_a",
        "outputId": "4252f03e-5b4f-42fe-aae4-bbcf9a5bf274"
      },
      "execution_count": 8,
      "outputs": [
        {
          "output_type": "stream",
          "name": "stdout",
          "text": [
            "  tripduration         trip_id         rideable_type  \n",
            " Min.   :      60   Min.   :    3940   Mode:logical   \n",
            " 1st Qu.:     411   1st Qu.: 7186556   NA's:21243283  \n",
            " Median :     707   Median :13754998                  \n",
            " Mean   :    1157   Mean   :13532829                  \n",
            " 3rd Qu.:    1210   3rd Qu.:20007118                  \n",
            " Max.   :14336400   Max.   :25962904                  \n",
            "   starttime                      stoptime                   from_station_name \n",
            " Min.   :2013-06-27 01:06:00   Min.   :2013-06-27 09:46:00   Length:21243283   \n",
            " 1st Qu.:2015-08-30 09:14:00   1st Qu.:2015-08-30 09:31:00   Class :character  \n",
            " Median :2017-04-22 18:16:33   Median :2017-04-22 18:36:26   Mode  :character  \n",
            " Mean   :2017-02-15 05:57:49   Mean   :2017-02-15 06:17:06                     \n",
            " 3rd Qu.:2018-08-07 18:42:20   3rd Qu.:2018-08-07 19:00:30                     \n",
            " Max.   :2019-12-31 23:57:17   Max.   :2020-01-21 13:54:35                     \n",
            " from_station_id to_station_name    to_station_id     usertype        \n",
            " Min.   :  1     Length:21243283    Min.   :  1.0   Length:21243283   \n",
            " 1st Qu.: 75     Class :character   1st Qu.: 75.0   Class :character  \n",
            " Median :157     Mode  :character   Median :157.0   Mode  :character  \n",
            " Mean   :180                        Mean   :180.4                     \n",
            " 3rd Qu.:268                        3rd Qu.:268.0                     \n",
            " Max.   :673                        Max.   :673.0                     \n"
          ]
        }
      ]
    },
    {
      "cell_type": "code",
      "source": [
        "%%R\n",
        "ggplot(data=t1, mapping=aes(x=tripduration))+geom_boxplot()"
      ],
      "metadata": {
        "id": "NNOXNhjyPTYn",
        "colab": {
          "base_uri": "https://localhost:8080/",
          "height": 497
        },
        "outputId": "97a3a22d-642e-4345-db8b-a23bb7ed1730"
      },
      "execution_count": 28,
      "outputs": [
        {
          "output_type": "display_data",
          "data": {
            "image/png": "[encoded data removed]"
          },
          "metadata": {}
        }
      ]
    },
    {
      "cell_type": "code",
      "source": [
        "%%R\n",
        "print(summary(as.factor(t1$from_station_name)))\n",
        "print(\"-------------------------------------------------------------\")\n",
        "print(summary(as.factor(t1$to_station_name)))"
      ],
      "metadata": {
        "colab": {
          "base_uri": "https://localhost:8080/"
        },
        "id": "txySERmVrMuo",
        "outputId": "2d54a58e-f10f-4922-8aef-49aa1de6481d"
      },
      "execution_count": 11,
      "outputs": [
        {
          "output_type": "stream",
          "name": "stdout",
          "text": [
            "            Streeter Dr & Grand Ave           Lake Shore Dr & Monroe St \n",
            "                             322538                              296233 \n",
            "       Clinton St & Washington Blvd                 Canal St & Adams St \n",
            "                             285137                              274769 \n",
            "                Theater on the Lake             Clinton St & Madison St \n",
            "                             248947                              242390 \n",
            "         Lake Shore Dr & North Blvd               Michigan Ave & Oak St \n",
            "                             231532                              228811 \n",
            "                    Millennium Park               Canal St & Madison St \n",
            "                             224919                              204395 \n",
            "          Columbus Dr & Randolph St        Michigan Ave & Washington St \n",
            "                             198547                              192273 \n",
            "                 Daley Center Plaza            Kingsbury St & Kinzie St \n",
            "                             168157                              153882 \n",
            "           McClurg Ct & Illinois St              Michigan Ave & Lake St \n",
            "                             149330                              145787 \n",
            "          LaSalle St & Jackson Blvd             Franklin St & Monroe St \n",
            "                             145519                              143823 \n",
            "                  Clark St & Elm St Orleans St & Merchandise Mart Plaza \n",
            "                             140906                              138481 \n",
            "          Streeter Dr & Illinois St          Indiana Ave & Roosevelt Rd \n",
            "                             137683                              136969 \n",
            "         Franklin St & Jackson Blvd             Dearborn St & Monroe St \n",
            "                             136218                              135990 \n",
            "             Wabash Ave & Grand Ave                      Shedd Aquarium \n",
            "                             135949                              133254 \n",
            "               Clinton St & Lake St           Wabash Ave & Roosevelt Rd \n",
            "                             132727                              127312 \n",
            "           LaSalle St & Illinois St            Fairbanks Ct & Grand Ave \n",
            "                             126003                              123954 \n",
            "            Clark St & Armitage Ave          Larrabee St & Kingsbury St \n",
            "                             122565                              121626 \n",
            "               State St & Kinzie St              Clark St & Lincoln Ave \n",
            "                             121116                              119945 \n",
            "              Wells St & Concord Ln           Desplaines St & Kinzie St \n",
            "                             119628                              118729 \n",
            "             Kingsbury St & Erie St               Dearborn St & Erie St \n",
            "                             115130                              114650 \n",
            "             Damen Ave & Pierce Ave                   Adler Planetarium \n",
            "                             113007                              111892 \n",
            "             State St & Randolph St            Wilton Ave & Belmont Ave \n",
            "                             110079                              108420 \n",
            "        Michigan Ave & Jackson Blvd             Canal St & Jackson Blvd \n",
            "                             106814                              105647 \n",
            "        Dearborn Pkwy & Delaware Pl             Lake Shore Dr & Ohio St \n",
            "                             103681                              102664 \n",
            "             St. Clair St & Erie St              Clark St & Randolph St \n",
            "                             101108                              100040 \n",
            "      Sheffield Ave & Fullerton Ave              Dearborn St & Adams St \n",
            "                              98203                               97284 \n",
            "          Ashland Ave & Division St                      Dusable Harbor \n",
            "                              92494                               91930 \n",
            "              Franklin St & Lake St        Marshfield Ave & Cortland St \n",
            "                              91485                               91141 \n",
            "        Lake Shore Dr & Belmont Ave Mies van der Rohe Way & Chicago Ave \n",
            "                              89303                               88702 \n",
            "          Clark St & Wrightwood Ave            Peoria St & Jackson Blvd \n",
            "                              87931                               87664 \n",
            "          Franklin St & Chicago Ave                 Morgan St & Lake St \n",
            "                              87288                               86380 \n",
            "               Broadway & Barry Ave                     Montrose Harbor \n",
            "                              85394                               85258 \n",
            "         LaSalle St & Washington St       Lakeview Ave & Fullerton Pkwy \n",
            "                              85255                               84571 \n",
            "          Michigan Ave & Pearson St              Clark St & Schiller St \n",
            "                              83388                               81969 \n",
            "                     Burnham Harbor             State St & Van Buren St \n",
            "                              81450                               81300 \n",
            "            Franklin St & Quincy St            Wells St & Evergreen Ave \n",
            "                              80131                               80071 \n",
            "       Stetson Ave & South Water St              Green St & Randolph St \n",
            "                              79817                               78591 \n",
            "       Sheridan Rd & Irving Park Rd          Wilton Ave & Diversey Pkwy \n",
            "                              77824                               77499 \n",
            "     Lake Shore Dr & Wellington Ave           Sedgwick St & Webster Ave \n",
            "                              76872                               76471 \n",
            "          Larrabee St & Webster Ave           Wacker Dr & Washington St \n",
            "                              76008                               75439 \n",
            "                 Clark St & Lake St      Sheffield Ave & Wellington Ave \n",
            "                              75321                               75215 \n",
            "          Bissell St & Armitage Ave             Sedgwick St & North Ave \n",
            "                              73602                               72844 \n",
            "          Clark St & Wellington Ave                McClurg Ct & Erie St \n",
            "                              72601                               72188 \n",
            "                Morgan St & Polk St       Ravenswood Ave & Lawrence Ave \n",
            "                              71579                               71144 \n",
            "          Southport Ave & Roscoe St                Clark St & North Ave \n",
            "                              71124                               70502 \n",
            "          Michigan Ave & Madison St               Wells St & Hubbard St \n",
            "                              70213                               69814 \n",
            "             Wabash Ave & Wacker Pl     Cityfront Plaza Dr & Pioneer Ct \n",
            "                              69712                               69645 \n",
            "Mies van der Rohe Way & Chestnut St      Southport Ave & Wellington Ave \n",
            "                              69158                               68222 \n",
            "            Broadway & Cornelia Ave               State St & Pearson St \n",
            "                              67728                               67171 \n",
            "      Lake Shore Dr & Diversey Pkwy               Dayton St & North Ave \n",
            "                              66292                               65701 \n",
            "            Wood St & Milwaukee Ave                             (Other) \n",
            "                              65022                             9752196 \n",
            "[1] \"-------------------------------------------------------------\"\n",
            "            Streeter Dr & Grand Ave        Clinton St & Washington Blvd \n",
            "                             365462                              280749 \n",
            "          Lake Shore Dr & Monroe St                 Theater on the Lake \n",
            "                             273696                              267811 \n",
            "                Canal St & Adams St          Lake Shore Dr & North Blvd \n",
            "                             264702                              263793 \n",
            "                    Millennium Park               Michigan Ave & Oak St \n",
            "                             247920                              244908 \n",
            "            Clinton St & Madison St               Canal St & Madison St \n",
            "                             232100                              209606 \n",
            "       Michigan Ave & Washington St           Streeter Dr & Illinois St \n",
            "                             198654                              164101 \n",
            "                 Daley Center Plaza            Kingsbury St & Kinzie St \n",
            "                             163231                              152725 \n",
            "           McClurg Ct & Illinois St              Michigan Ave & Lake St \n",
            "                             149112                              147635 \n",
            "                  Clark St & Elm St              Wabash Ave & Grand Ave \n",
            "                             145367                              139762 \n",
            "          LaSalle St & Jackson Blvd           Wabash Ave & Roosevelt Rd \n",
            "                             137177                              136840 \n",
            "           LaSalle St & Illinois St             Dearborn St & Monroe St \n",
            "                             133817                              132061 \n",
            "         Indiana Ave & Roosevelt Rd                Clinton St & Lake St \n",
            "                             130325                              130218 \n",
            "          Columbus Dr & Randolph St             Franklin St & Monroe St \n",
            "                             129034                              128851 \n",
            "Orleans St & Merchandise Mart Plaza                State St & Kinzie St \n",
            "                             128252                              127709 \n",
            "         Franklin St & Jackson Blvd             Clark St & Armitage Ave \n",
            "                             126806                              125872 \n",
            "         Larrabee St & Kingsbury St                      Shedd Aquarium \n",
            "                             125044                              123440 \n",
            "             St. Clair St & Erie St            Fairbanks Ct & Grand Ave \n",
            "                             122333                              122234 \n",
            "             Clark St & Lincoln Ave              Damen Ave & Pierce Ave \n",
            "                             122133                              122121 \n",
            "              Wells St & Concord Ln               Dearborn St & Erie St \n",
            "                             119128                              117285 \n",
            "           Wilton Ave & Belmont Ave         Dearborn Pkwy & Delaware Pl \n",
            "                             110339                              109386 \n",
            "                  Adler Planetarium         Michigan Ave & Jackson Blvd \n",
            "                             109183                              108034 \n",
            "             Kingsbury St & Erie St              State St & Randolph St \n",
            "                             107936                              106180 \n",
            "          Desplaines St & Kinzie St             Canal St & Jackson Blvd \n",
            "                             104567                              101641 \n",
            "            Lake Shore Dr & Ohio St              Clark St & Randolph St \n",
            "                             100001                               99031 \n",
            "      Sheffield Ave & Fullerton Ave              Dearborn St & Adams St \n",
            "                              97707                               94967 \n",
            "          Ashland Ave & Division St                 Morgan St & Lake St \n",
            "                              93981                               92050 \n",
            "        Lake Shore Dr & Belmont Ave Mies van der Rohe Way & Chicago Ave \n",
            "                              92044                               91701 \n",
            "               Broadway & Barry Ave           Clark St & Wrightwood Ave \n",
            "                              90328                               89060 \n",
            "       Marshfield Ave & Cortland St       Lakeview Ave & Fullerton Pkwy \n",
            "                              88699                               86815 \n",
            "             Green St & Randolph St            Peoria St & Jackson Blvd \n",
            "                              86517                               86009 \n",
            "                    Montrose Harbor           Franklin St & Chicago Ave \n",
            "                              85375                               84079 \n",
            "              Franklin St & Lake St                      Burnham Harbor \n",
            "                              83278                               82677 \n",
            "          Michigan Ave & Pearson St      Lake Shore Dr & Wellington Ave \n",
            "                              82171                               80336 \n",
            "          Bissell St & Armitage Ave        Sheridan Rd & Irving Park Rd \n",
            "                              79677                               79409 \n",
            "                     Dusable Harbor            Wells St & Evergreen Ave \n",
            "                              79254                               79203 \n",
            "         Wilton Ave & Diversey Pkwy          LaSalle St & Washington St \n",
            "                              78533                               78464 \n",
            "     Sheffield Ave & Wellington Ave             State St & Van Buren St \n",
            "                              78009                               76777 \n",
            "          Larrabee St & Webster Ave             Franklin St & Quincy St \n",
            "                              76715                               76639 \n",
            "          Southport Ave & Roscoe St           Clark St & Wellington Ave \n",
            "                              75350                               73925 \n",
            "          Sedgwick St & Webster Ave              Clark St & Schiller St \n",
            "                              73823                               73654 \n",
            "               Clark St & North Ave                  Clark St & Lake St \n",
            "                              72831                               71736 \n",
            "      Ravenswood Ave & Lawrence Ave                McClurg Ct & Erie St \n",
            "                              71380                               70994 \n",
            "                Morgan St & Polk St           Wacker Dr & Washington St \n",
            "                              70882                               70171 \n",
            "              Wells St & Hubbard St              Wabash Ave & Wacker Pl \n",
            "                              70000                               69693 \n",
            "            Broadway & Cornelia Ave              Broadway & Belmont Ave \n",
            "                              69124                               69093 \n",
            "            Wood St & Milwaukee Ave             Sedgwick St & North Ave \n",
            "                              68588                               68422 \n",
            "              Green St & Madison St         Sheffield Ave & Webster Ave \n",
            "                              68150                               66956 \n",
            "     Southport Ave & Wellington Ave       Lake Shore Dr & Diversey Pkwy \n",
            "                              66935                               66689 \n",
            "              Dayton St & North Ave             Damen Ave & Chicago Ave \n",
            "                              66494                               66149 \n",
            "          Michigan Ave & Madison St                             (Other) \n",
            "                              65833                             9757625 \n"
          ]
        }
      ]
    },
    {
      "cell_type": "code",
      "source": [
        "%%R\n",
        "summary(as.factor(t1$to_station_name))[3]"
      ],
      "metadata": {
        "colab": {
          "base_uri": "https://localhost:8080/"
        },
        "id": "9OSmGX3buii6",
        "outputId": "0459241e-83a6-44e0-9e63-db2e83947ecd"
      },
      "execution_count": 13,
      "outputs": [
        {
          "output_type": "stream",
          "name": "stdout",
          "text": [
            "Lake Shore Dr & Monroe St \n",
            "                   273696 \n"
          ]
        }
      ]
    },
    {
      "cell_type": "code",
      "source": [
        "%%R\n",
        "t1$path = paste(t1$from_station_name,t1$to_station_name,sep=\"-->\")"
      ],
      "metadata": {
        "id": "B2U59WaNuzaD"
      },
      "execution_count": 14,
      "outputs": []
    },
    {
      "cell_type": "code",
      "source": [
        "%%R\n",
        "summary(as.factor(t1$path))"
      ],
      "metadata": {
        "colab": {
          "base_uri": "https://localhost:8080/"
        },
        "id": "uTWYQ_f2vJ9W",
        "outputId": "3e65c846-543f-47ce-973a-9b1c2079399a"
      },
      "execution_count": 17,
      "outputs": [
        {
          "output_type": "stream",
          "name": "stdout",
          "text": [
            "            Lake Shore Dr & Monroe St-->Streeter Dr & Grand Ave \n",
            "                                                          40921 \n",
            "          Lake Shore Dr & Monroe St-->Lake Shore Dr & Monroe St \n",
            "                                                          38907 \n",
            "              Streeter Dr & Grand Ave-->Streeter Dr & Grand Ave \n",
            "                                                          36083 \n",
            "                  Michigan Ave & Oak St-->Michigan Ave & Oak St \n",
            "                                                          27671 \n",
            "                  Streeter Dr & Grand Ave-->Theater on the Lake \n",
            "                                                          22270 \n",
            "           Streeter Dr & Grand Ave-->Lake Shore Dr & North Blvd \n",
            "                                                          20937 \n",
            "            Streeter Dr & Grand Ave-->Lake Shore Dr & Monroe St \n",
            "                                                          20101 \n",
            "                  Theater on the Lake-->Streeter Dr & Grand Ave \n",
            "                                                          20065 \n",
            "          Lake Shore Dr & Monroe St-->Streeter Dr & Illinois St \n",
            "                                                          19752 \n",
            "           Lake Shore Dr & North Blvd-->Streeter Dr & Grand Ave \n",
            "                                                          19436 \n",
            "                      Theater on the Lake-->Theater on the Lake \n",
            "                                                          18288 \n",
            "                              Millennium Park-->Millennium Park \n",
            "                                                          17983 \n",
            "                    Michigan Ave & Oak St-->Theater on the Lake \n",
            "                                                          17873 \n",
            "                              Montrose Harbor-->Montrose Harbor \n",
            "                                                          16588 \n",
            "                      Streeter Dr & Grand Ave-->Millennium Park \n",
            "                                                          16176 \n",
            "                    Theater on the Lake-->Michigan Ave & Oak St \n",
            "                                                          16073 \n",
            "                Streeter Dr & Grand Ave-->Michigan Ave & Oak St \n",
            "                                                          14253 \n",
            "        Lake Shore Dr & North Blvd-->Lake Shore Dr & North Blvd \n",
            "                                                          14110 \n",
            "                       Shedd Aquarium-->Streeter Dr & Grand Ave \n",
            "                                                          14032 \n",
            "             Canal St & Adams St-->Michigan Ave & Washington St \n",
            "                                                          13721 \n",
            "             Michigan Ave & Washington St-->Canal St & Adams St \n",
            "                                                          13670 \n",
            "                  Lake Shore Dr & Monroe St-->Adler Planetarium \n",
            "                                                          13473 \n",
            "                      Millennium Park-->Streeter Dr & Grand Ave \n",
            "                                                          13451 \n",
            "       Columbus Dr & Randolph St-->Clinton St & Washington Blvd \n",
            "                                                          13439 \n",
            "                          Adler Planetarium-->Adler Planetarium \n",
            "                                                          13401 \n",
            "           Canal St & Madison St-->Michigan Ave & Washington St \n",
            "                                                          13387 \n",
            "                  Adler Planetarium-->Lake Shore Dr & Monroe St \n",
            "                                                          13029 \n",
            "                     Shedd Aquarium-->Lake Shore Dr & Monroe St \n",
            "                                                          12718 \n",
            "                     Lake Shore Dr & Monroe St-->Shedd Aquarium \n",
            "                                                          12524 \n",
            "    Clinton St & Washington Blvd-->Michigan Ave & Washington St \n",
            "                                                          12522 \n",
            "    Michigan Ave & Washington St-->Clinton St & Washington Blvd \n",
            "                                                          12498 \n",
            "          Streeter Dr & Illinois St-->Lake Shore Dr & Monroe St \n",
            "                                                          12444 \n",
            "                Michigan Ave & Oak St-->Streeter Dr & Grand Ave \n",
            "                                                          12188 \n",
            "                       Dusable Harbor-->Streeter Dr & Grand Ave \n",
            "                                                          11752 \n",
            "           Michigan Ave & Washington St-->Canal St & Madison St \n",
            "                                                          11466 \n",
            "              LaSalle St & Jackson Blvd-->Canal St & Madison St \n",
            "                                                          11445 \n",
            "Southport Ave & Wellington Ave-->Sheffield Ave & Wellington Ave \n",
            "                                                          11441 \n",
            "                Theater on the Lake-->Streeter Dr & Illinois St \n",
            "                                                          11369 \n",
            "              Columbus Dr & Randolph St-->Canal St & Madison St \n",
            "                                                          11348 \n",
            "         Lake Shore Dr & Monroe St-->Lake Shore Dr & North Blvd \n",
            "                                                          11100 \n",
            "          Streeter Dr & Illinois St-->Streeter Dr & Illinois St \n",
            "                                                          10932 \n",
            "                                Shedd Aquarium-->Shedd Aquarium \n",
            "                                                          10903 \n",
            "                     Burnham Harbor-->Lake Shore Dr & Monroe St \n",
            "                                                          10380 \n",
            "       Wacker Dr & Washington St-->Michigan Ave & Washington St \n",
            "                                                          10234 \n",
            "Sheffield Ave & Wellington Ave-->Southport Ave & Wellington Ave \n",
            "                                                          10108 \n",
            "                   Indiana Ave & Roosevelt Rd-->Millennium Park \n",
            "                                                          10072 \n",
            "                Columbus Dr & Randolph St-->Canal St & Adams St \n",
            "                                                          10047 \n",
            "                    Millennium Park-->Lake Shore Dr & Monroe St \n",
            "                                                          10041 \n",
            " Southport Ave & Wrightwood Ave-->Sheffield Ave & Fullerton Ave \n",
            "                                                           9961 \n",
            "               Theater on the Lake-->Lake Shore Dr & North Blvd \n",
            "                                                           9894 \n",
            "                               Shedd Aquarium-->Millennium Park \n",
            "                                                           9823 \n",
            " Sheffield Ave & Fullerton Ave-->Southport Ave & Wrightwood Ave \n",
            "                                                           9666 \n",
            "                Streeter Dr & Illinois St-->Theater on the Lake \n",
            "                                                           9585 \n",
            "                   Michigan Ave & Lake St-->Canal St & Adams St \n",
            "                                                           9541 \n",
            "                    Lake Shore Dr & Monroe St-->Millennium Park \n",
            "                                                           9526 \n",
            "       Indiana Ave & Roosevelt Rd-->Michigan Ave & Jackson Blvd \n",
            "                                                           9500 \n",
            "             Columbus Dr & Randolph St-->State St & Randolph St \n",
            "                                                           9446 \n",
            "            Clinton St & Madison St-->LaSalle St & Jackson Blvd \n",
            "                                                           9435 \n",
            "        Fort Dearborn Dr & 31st St-->Fort Dearborn Dr & 31st St \n",
            "                                                           9397 \n",
            "                    Streeter Dr & Illinois St-->Millennium Park \n",
            "                                                           9367 \n",
            "                 Loomis St & Lexington St-->Morgan St & Polk St \n",
            "                                                           9305 \n",
            "             Lake Shore Dr & North Blvd-->Michigan Ave & Oak St \n",
            "                                                           9301 \n",
            "                Lake Shore Dr & Monroe St-->Theater on the Lake \n",
            "                                                           9127 \n",
            "         Lake Shore Dr & North Blvd-->Streeter Dr & Illinois St \n",
            "                                                           9047 \n",
            "                       MLK Jr Dr & 29th St-->State St & 33rd St \n",
            "                                                           9038 \n",
            "                       Streeter Dr & Grand Ave-->Shedd Aquarium \n",
            "                                                           8992 \n",
            "             Michigan Ave & Oak St-->Lake Shore Dr & North Blvd \n",
            "                                                           8801 \n",
            "        Indiana Ave & Roosevelt Rd-->Indiana Ave & Roosevelt Rd \n",
            "                                                           8772 \n",
            "          Michigan Ave & Lake St-->Clinton St & Washington Blvd \n",
            "                                                           8685 \n",
            "                          Montrose Harbor-->Theater on the Lake \n",
            "                                                           8620 \n",
            "               Lake Shore Dr & North Blvd-->Theater on the Lake \n",
            "                                                           8607 \n",
            "              Lake Shore Dr & Monroe St-->Michigan Ave & Oak St \n",
            "                                                           8603 \n",
            "              Broadway & Belmont Ave-->Wilton Ave & Belmont Ave \n",
            "                                                           8560 \n",
            "                     Calumet Ave & 33rd St-->State St & 33rd St \n",
            "                                                           8538 \n",
            "                   Millennium Park-->Indiana Ave & Roosevelt Rd \n",
            "                                                           8475 \n",
            " Sheridan Rd & Irving Park Rd-->Pine Grove Ave & Irving Park Rd \n",
            "                                                           8400 \n",
            "              Lake Shore Dr & Ohio St-->Lake Shore Dr & Ohio St \n",
            "                                                           8371 \n",
            "       Clinton St & Washington Blvd-->LaSalle St & Jackson Blvd \n",
            "                                                           8285 \n",
            "                     Lake Shore Dr & Monroe St-->Burnham Harbor \n",
            "                                                           8251 \n",
            "                 Morgan St & Polk St-->Loomis St & Lexington St \n",
            "                                                           8105 \n",
            "         Streeter Dr & Illinois St-->Lake Shore Dr & North Blvd \n",
            "                                                           8090 \n",
            "             Wabash Ave & Roosevelt Rd-->Michigan Ave & 18th St \n",
            "                                                           8067 \n",
            "            Ashland Ave & Division St-->Damen Ave & Division St \n",
            "                                                           8030 \n",
            "       Michigan Ave & Jackson Blvd-->Indiana Ave & Roosevelt Rd \n",
            "                                                           7979 \n",
            "            McClurg Ct & Illinois St-->McClurg Ct & Illinois St \n",
            "                                                           7855 \n",
            "                  Broadway & Berwyn Ave-->Clark St & Berwyn Ave \n",
            "                                                           7821 \n",
            "                Dearborn St & Monroe St-->Canal St & Madison St \n",
            "                                                           7818 \n",
            "               University Ave & 57th St-->Kimbark Ave & 53rd St \n",
            "                                                           7810 \n",
            "                     Lake Shore Dr & Monroe St-->Dusable Harbor \n",
            "                                                           7797 \n",
            "                  Clark St & Berwyn Ave-->Broadway & Berwyn Ave \n",
            "                                                           7752 \n",
            "                       State St & 33rd St-->MLK Jr Dr & 29th St \n",
            "                                                           7751 \n",
            "              Michigan Ave & Oak St-->Streeter Dr & Illinois St \n",
            "                                                           7747 \n",
            "                     State St & 33rd St-->Calumet Ave & 33rd St \n",
            "                                                           7736 \n",
            "                          Theater on the Lake-->Montrose Harbor \n",
            "                                                           7675 \n",
            "                                Dusable Harbor-->Dusable Harbor \n",
            "                                                           7557 \n",
            "                                Burnham Harbor-->Burnham Harbor \n",
            "                                                           7552 \n",
            "                             Shedd Aquarium-->Adler Planetarium \n",
            "                                                           7551 \n",
            "               Wabash Ave & Roosevelt Rd-->Wabash Ave & 16th St \n",
            "                                                           7380 \n",
            "                               Millennium Park-->Shedd Aquarium \n",
            "                                                           7310 \n",
            "                                                        (Other) \n",
            "                                                       20050359 \n"
          ]
        }
      ]
    },
    {
      "cell_type": "code",
      "source": [
        "%%R\n",
        "print(length(unique(t1$to_station_name)))\n",
        "print(length(unique(t1$from_station_name)))"
      ],
      "metadata": {
        "colab": {
          "base_uri": "https://localhost:8080/"
        },
        "id": "RvU1Hzzgv1mW",
        "outputId": "ce4d0bb3-0e72-4e12-dba0-ec539607f1c1"
      },
      "execution_count": 21,
      "outputs": [
        {
          "output_type": "stream",
          "name": "stdout",
          "text": [
            "[1] 749\n",
            "[1] 749\n"
          ]
        }
      ]
    }
  ]
}